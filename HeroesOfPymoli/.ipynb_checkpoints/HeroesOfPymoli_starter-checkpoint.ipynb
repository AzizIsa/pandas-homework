{
 "cells": [
  {
   "cell_type": "markdown",
   "metadata": {},
   "source": [
    "### Heroes Of Pymoli Data Analysis\n",
    "* Of the 1163 active players, the vast majority are male (84%). There also exists, a smaller, but notable proportion of female players (14%).\n",
    "\n",
    "* Our peak age demographic falls between 20-24 (44.8%) with secondary groups falling between 15-19 (18.60%) and 25-29 (13.4%).  \n",
    "-----"
   ]
  },
  {
   "cell_type": "markdown",
   "metadata": {},
   "source": [
    "### Note\n",
    "* Instructions have been included for each segment. You do not have to follow them exactly, but they are included to help you think through the steps."
   ]
  },
  {
   "cell_type": "code",
   "execution_count": 1,
   "metadata": {},
   "outputs": [
    {
     "data": {
      "text/html": [
       "<div>\n",
       "<style scoped>\n",
       "    .dataframe tbody tr th:only-of-type {\n",
       "        vertical-align: middle;\n",
       "    }\n",
       "\n",
       "    .dataframe tbody tr th {\n",
       "        vertical-align: top;\n",
       "    }\n",
       "\n",
       "    .dataframe thead th {\n",
       "        text-align: right;\n",
       "    }\n",
       "</style>\n",
       "<table border=\"1\" class=\"dataframe\">\n",
       "  <thead>\n",
       "    <tr style=\"text-align: right;\">\n",
       "      <th></th>\n",
       "      <th>Purchase ID</th>\n",
       "      <th>SN</th>\n",
       "      <th>Age</th>\n",
       "      <th>Gender</th>\n",
       "      <th>Item ID</th>\n",
       "      <th>Item Name</th>\n",
       "      <th>Price</th>\n",
       "    </tr>\n",
       "  </thead>\n",
       "  <tbody>\n",
       "    <tr>\n",
       "      <th>0</th>\n",
       "      <td>0</td>\n",
       "      <td>Lisim78</td>\n",
       "      <td>20</td>\n",
       "      <td>Male</td>\n",
       "      <td>108</td>\n",
       "      <td>Extraction, Quickblade Of Trembling Hands</td>\n",
       "      <td>3.53</td>\n",
       "    </tr>\n",
       "    <tr>\n",
       "      <th>1</th>\n",
       "      <td>1</td>\n",
       "      <td>Lisovynya38</td>\n",
       "      <td>40</td>\n",
       "      <td>Male</td>\n",
       "      <td>143</td>\n",
       "      <td>Frenzied Scimitar</td>\n",
       "      <td>1.56</td>\n",
       "    </tr>\n",
       "    <tr>\n",
       "      <th>2</th>\n",
       "      <td>2</td>\n",
       "      <td>Ithergue48</td>\n",
       "      <td>24</td>\n",
       "      <td>Male</td>\n",
       "      <td>92</td>\n",
       "      <td>Final Critic</td>\n",
       "      <td>4.88</td>\n",
       "    </tr>\n",
       "    <tr>\n",
       "      <th>3</th>\n",
       "      <td>3</td>\n",
       "      <td>Chamassasya86</td>\n",
       "      <td>24</td>\n",
       "      <td>Male</td>\n",
       "      <td>100</td>\n",
       "      <td>Blindscythe</td>\n",
       "      <td>3.27</td>\n",
       "    </tr>\n",
       "    <tr>\n",
       "      <th>4</th>\n",
       "      <td>4</td>\n",
       "      <td>Iskosia90</td>\n",
       "      <td>23</td>\n",
       "      <td>Male</td>\n",
       "      <td>131</td>\n",
       "      <td>Fury</td>\n",
       "      <td>1.44</td>\n",
       "    </tr>\n",
       "  </tbody>\n",
       "</table>\n",
       "</div>"
      ],
      "text/plain": [
       "   Purchase ID             SN  Age Gender  Item ID  \\\n",
       "0            0        Lisim78   20   Male      108   \n",
       "1            1    Lisovynya38   40   Male      143   \n",
       "2            2     Ithergue48   24   Male       92   \n",
       "3            3  Chamassasya86   24   Male      100   \n",
       "4            4      Iskosia90   23   Male      131   \n",
       "\n",
       "                                   Item Name  Price  \n",
       "0  Extraction, Quickblade Of Trembling Hands   3.53  \n",
       "1                          Frenzied Scimitar   1.56  \n",
       "2                               Final Critic   4.88  \n",
       "3                                Blindscythe   3.27  \n",
       "4                                       Fury   1.44  "
      ]
     },
     "execution_count": 1,
     "metadata": {},
     "output_type": "execute_result"
    }
   ],
   "source": [
    "# Dependencies and Setup\n",
    "import pandas as pd\n",
    "import numpy as np\n",
    "\n",
    "# File to Load (Remember to Change These)\n",
    "file_to_load = \"Resources/purchase_data.csv\"\n",
    "\n",
    "# Read Purchasing File and store into Pandas data frame\n",
    "purchase_data = pd.read_csv(file_to_load)\n",
    "purchase_data.head()"
   ]
  },
  {
   "cell_type": "markdown",
   "metadata": {},
   "source": [
    "## Player Count"
   ]
  },
  {
   "cell_type": "markdown",
   "metadata": {},
   "source": [
    "* Display the total number of players\n"
   ]
  },
  {
   "cell_type": "code",
   "execution_count": 2,
   "metadata": {},
   "outputs": [
    {
     "data": {
      "text/html": [
       "<div>\n",
       "<style scoped>\n",
       "    .dataframe tbody tr th:only-of-type {\n",
       "        vertical-align: middle;\n",
       "    }\n",
       "\n",
       "    .dataframe tbody tr th {\n",
       "        vertical-align: top;\n",
       "    }\n",
       "\n",
       "    .dataframe thead th {\n",
       "        text-align: right;\n",
       "    }\n",
       "</style>\n",
       "<table border=\"1\" class=\"dataframe\">\n",
       "  <thead>\n",
       "    <tr style=\"text-align: right;\">\n",
       "      <th></th>\n",
       "      <th>Total Players</th>\n",
       "    </tr>\n",
       "  </thead>\n",
       "  <tbody>\n",
       "    <tr>\n",
       "      <th>0</th>\n",
       "      <td>576</td>\n",
       "    </tr>\n",
       "  </tbody>\n",
       "</table>\n",
       "</div>"
      ],
      "text/plain": [
       "   Total Players\n",
       "0            576"
      ]
     },
     "execution_count": 2,
     "metadata": {},
     "output_type": "execute_result"
    }
   ],
   "source": [
    "total_players = len(purchase_data[\"SN\"].unique())\n",
    "total_players_table = pd.DataFrame({\"Total Players\":[total_players]})\n",
    "total_players_table"
   ]
  },
  {
   "cell_type": "markdown",
   "metadata": {},
   "source": [
    "## Purchasing Analysis (Total)"
   ]
  },
  {
   "cell_type": "markdown",
   "metadata": {},
   "source": [
    "* Run basic calculations to obtain number of unique items, average price, etc.\n",
    "\n",
    "\n",
    "* Create a summary data frame to hold the results\n",
    "\n",
    "\n",
    "* Optional: give the displayed data cleaner formatting\n",
    "\n",
    "\n",
    "* Display the summary data frame\n"
   ]
  },
  {
   "cell_type": "code",
   "execution_count": 3,
   "metadata": {
    "scrolled": true
   },
   "outputs": [
    {
     "data": {
      "text/html": [
       "<style  type=\"text/css\" >\n",
       "</style>  \n",
       "<table id=\"T_8b2c1cd2_03bc_11e9_9e20_8ce67d72158b\" > \n",
       "<thead>    <tr> \n",
       "        <th class=\"blank level0\" ></th> \n",
       "        <th class=\"col_heading level0 col0\" >Number of Unique Items</th> \n",
       "        <th class=\"col_heading level0 col1\" >Average Price</th> \n",
       "        <th class=\"col_heading level0 col2\" >Number of Purchases</th> \n",
       "        <th class=\"col_heading level0 col3\" >Total Revenue</th> \n",
       "    </tr></thead> \n",
       "<tbody>    <tr> \n",
       "        <th id=\"T_8b2c1cd2_03bc_11e9_9e20_8ce67d72158blevel0_row0\" class=\"row_heading level0 row0\" >0</th> \n",
       "        <td id=\"T_8b2c1cd2_03bc_11e9_9e20_8ce67d72158brow0_col0\" class=\"data row0 col0\" >183</td> \n",
       "        <td id=\"T_8b2c1cd2_03bc_11e9_9e20_8ce67d72158brow0_col1\" class=\"data row0 col1\" >$3.05</td> \n",
       "        <td id=\"T_8b2c1cd2_03bc_11e9_9e20_8ce67d72158brow0_col2\" class=\"data row0 col2\" >780</td> \n",
       "        <td id=\"T_8b2c1cd2_03bc_11e9_9e20_8ce67d72158brow0_col3\" class=\"data row0 col3\" >$2,379.77</td> \n",
       "    </tr></tbody> \n",
       "</table> "
      ],
      "text/plain": [
       "<pandas.io.formats.style.Styler at 0x21747dfae80>"
      ]
     },
     "execution_count": 3,
     "metadata": {},
     "output_type": "execute_result"
    }
   ],
   "source": [
    "unique_items = int(len(purchase_data[\"Item ID\"].unique()))\n",
    "avrage_price =float(purchase_data[\"Price\"].mean())\n",
    "purchases =int(purchase_data[\"Purchase ID\"].count())\n",
    "total_revenue=float(purchase_data[\"Price\"].sum())\n",
    "\n",
    "table = pd.DataFrame({\"Number of Unique Items\":[unique_items], \"Average Price\":[avrage_price],\"Number of Purchases\":[purchases],\"Total Revenue\":[total_revenue] })\n",
    "purchasing_table = table.style.format({'Average Price': \"${:.2f}\",\"Total Revenue\": \"${:,.2f}\"})\n",
    "purchasing_table"
   ]
  },
  {
   "cell_type": "code",
   "execution_count": null,
   "metadata": {},
   "outputs": [],
   "source": []
  },
  {
   "cell_type": "markdown",
   "metadata": {},
   "source": [
    "## Gender Demographics"
   ]
  },
  {
   "cell_type": "markdown",
   "metadata": {},
   "source": [
    "* Percentage and Count of Male Players\n",
    "\n",
    "\n",
    "* Percentage and Count of Female Players\n",
    "\n",
    "\n",
    "* Percentage and Count of Other / Non-Disclosed\n",
    "\n",
    "\n"
   ]
  },
  {
   "cell_type": "code",
   "execution_count": 4,
   "metadata": {},
   "outputs": [
    {
     "data": {
      "text/html": [
       "<style  type=\"text/css\" >\n",
       "</style>  \n",
       "<table id=\"T_8b2f8354_03bc_11e9_a638_8ce67d72158b\" > \n",
       "<thead>    <tr> \n",
       "        <th class=\"blank level0\" ></th> \n",
       "        <th class=\"col_heading level0 col0\" >Total Count</th> \n",
       "        <th class=\"col_heading level0 col1\" >Percentage of Players</th> \n",
       "    </tr></thead> \n",
       "<tbody>    <tr> \n",
       "        <th id=\"T_8b2f8354_03bc_11e9_a638_8ce67d72158blevel0_row0\" class=\"row_heading level0 row0\" >Male</th> \n",
       "        <td id=\"T_8b2f8354_03bc_11e9_a638_8ce67d72158brow0_col0\" class=\"data row0 col0\" >484</td> \n",
       "        <td id=\"T_8b2f8354_03bc_11e9_a638_8ce67d72158brow0_col1\" class=\"data row0 col1\" >84.03</td> \n",
       "    </tr>    <tr> \n",
       "        <th id=\"T_8b2f8354_03bc_11e9_a638_8ce67d72158blevel0_row1\" class=\"row_heading level0 row1\" >Female</th> \n",
       "        <td id=\"T_8b2f8354_03bc_11e9_a638_8ce67d72158brow1_col0\" class=\"data row1 col0\" >81</td> \n",
       "        <td id=\"T_8b2f8354_03bc_11e9_a638_8ce67d72158brow1_col1\" class=\"data row1 col1\" >14.06</td> \n",
       "    </tr>    <tr> \n",
       "        <th id=\"T_8b2f8354_03bc_11e9_a638_8ce67d72158blevel0_row2\" class=\"row_heading level0 row2\" >Other / Non-Disclosed</th> \n",
       "        <td id=\"T_8b2f8354_03bc_11e9_a638_8ce67d72158brow2_col0\" class=\"data row2 col0\" >11</td> \n",
       "        <td id=\"T_8b2f8354_03bc_11e9_a638_8ce67d72158brow2_col1\" class=\"data row2 col1\" >1.91</td> \n",
       "    </tr></tbody> \n",
       "</table> "
      ],
      "text/plain": [
       "<pandas.io.formats.style.Styler at 0x2174993a978>"
      ]
     },
     "execution_count": 4,
     "metadata": {},
     "output_type": "execute_result"
    }
   ],
   "source": [
    "uniqueSN = purchase_data.drop_duplicates(subset=['SN'])\n",
    "gender_counts = uniqueSN[\"Gender\"].value_counts()\n",
    "\n",
    "male_percentage = (gender_counts[0]/total_players)*100\n",
    "female_percentage =(gender_counts[1]/total_players)*100\n",
    "other_percentage =(gender_counts[2]/total_players)*100\n",
    "\n",
    "gender_demographics = pd.DataFrame(gender_counts)\n",
    "gender_demographics[\"Percentage of Players\"] = [male_percentage,female_percentage,other_percentage]\n",
    "gender_demographics = gender_demographics.rename(columns={\"Gender\": \"Total Count\"})\n",
    "gender_demographics.style.format({\"Percentage of Players\":\"{:.2f}\"})"
   ]
  },
  {
   "cell_type": "markdown",
   "metadata": {},
   "source": [
    "\n",
    "## Purchasing Analysis (Gender)"
   ]
  },
  {
   "cell_type": "markdown",
   "metadata": {},
   "source": [
    "* Run basic calculations to obtain purchase count, avg. purchase price, avg. purchase total per person etc. by gender\n",
    "\n",
    "\n",
    "\n",
    "\n",
    "* Create a summary data frame to hold the results\n",
    "\n",
    "\n",
    "* Optional: give the displayed data cleaner formatting\n",
    "\n",
    "\n",
    "* Display the summary data frame"
   ]
  },
  {
   "cell_type": "code",
   "execution_count": 5,
   "metadata": {},
   "outputs": [
    {
     "data": {
      "text/html": [
       "<style  type=\"text/css\" >\n",
       "</style>  \n",
       "<table id=\"T_8b361a76_03bc_11e9_bbf7_8ce67d72158b\" > \n",
       "<thead>    <tr> \n",
       "        <th class=\"blank level0\" ></th> \n",
       "        <th class=\"col_heading level0 col0\" >Purchase Count</th> \n",
       "        <th class=\"col_heading level0 col1\" >Average Purchase Price</th> \n",
       "        <th class=\"col_heading level0 col2\" >Total Purchase Value</th> \n",
       "        <th class=\"col_heading level0 col3\" >Avg Total Purchase per Person</th> \n",
       "    </tr></thead> \n",
       "<tbody>    <tr> \n",
       "        <th id=\"T_8b361a76_03bc_11e9_bbf7_8ce67d72158blevel0_row0\" class=\"row_heading level0 row0\" >Female</th> \n",
       "        <td id=\"T_8b361a76_03bc_11e9_bbf7_8ce67d72158brow0_col0\" class=\"data row0 col0\" >113</td> \n",
       "        <td id=\"T_8b361a76_03bc_11e9_bbf7_8ce67d72158brow0_col1\" class=\"data row0 col1\" >$3.02</td> \n",
       "        <td id=\"T_8b361a76_03bc_11e9_bbf7_8ce67d72158brow0_col2\" class=\"data row0 col2\" >$1,967.64</td> \n",
       "        <td id=\"T_8b361a76_03bc_11e9_bbf7_8ce67d72158brow0_col3\" class=\"data row0 col3\" >4.07</td> \n",
       "    </tr>    <tr> \n",
       "        <th id=\"T_8b361a76_03bc_11e9_bbf7_8ce67d72158blevel0_row1\" class=\"row_heading level0 row1\" >Male</th> \n",
       "        <td id=\"T_8b361a76_03bc_11e9_bbf7_8ce67d72158brow1_col0\" class=\"data row1 col0\" >652</td> \n",
       "        <td id=\"T_8b361a76_03bc_11e9_bbf7_8ce67d72158brow1_col1\" class=\"data row1 col1\" >$3.20</td> \n",
       "        <td id=\"T_8b361a76_03bc_11e9_bbf7_8ce67d72158brow1_col2\" class=\"data row1 col2\" >$361.94</td> \n",
       "        <td id=\"T_8b361a76_03bc_11e9_bbf7_8ce67d72158brow1_col3\" class=\"data row1 col3\" >4.47</td> \n",
       "    </tr>    <tr> \n",
       "        <th id=\"T_8b361a76_03bc_11e9_bbf7_8ce67d72158blevel0_row2\" class=\"row_heading level0 row2\" >Other / Non-Disclosed</th> \n",
       "        <td id=\"T_8b361a76_03bc_11e9_bbf7_8ce67d72158brow2_col0\" class=\"data row2 col0\" >15</td> \n",
       "        <td id=\"T_8b361a76_03bc_11e9_bbf7_8ce67d72158brow2_col1\" class=\"data row2 col1\" >$3.35</td> \n",
       "        <td id=\"T_8b361a76_03bc_11e9_bbf7_8ce67d72158brow2_col2\" class=\"data row2 col2\" >$50.19</td> \n",
       "        <td id=\"T_8b361a76_03bc_11e9_bbf7_8ce67d72158brow2_col3\" class=\"data row2 col3\" >4.56</td> \n",
       "    </tr></tbody> \n",
       "</table> "
      ],
      "text/plain": [
       "<pandas.io.formats.style.Styler at 0x2174aed8ac8>"
      ]
     },
     "execution_count": 5,
     "metadata": {},
     "output_type": "execute_result"
    }
   ],
   "source": [
    "gender_total_counts = purchase_data[\"Gender\"].value_counts()\n",
    "gender_purchase = pd.DataFrame(gender_total_counts).sort_index()\n",
    "\n",
    "f_avr_purchase = float(purchase_data.loc[purchase_data[\"Gender\"]==\"Female\", [\"Price\"]].mean())\n",
    "m_avr_purchase = float(purchase_data.loc[purchase_data[\"Gender\"]==\"Male\", [\"Price\"]].mean())\n",
    "o_avr_purchase =  float(purchase_data.loc[purchase_data[\"Gender\"]==\"Other / Non-Disclosed\", [\"Price\"]].mean())\n",
    "gender_purchase[\"Average Purchase Price\"]= [ m_avr_purchase,f_avr_purchase,o_avr_purchase]\n",
    "\n",
    "f_total_purchase = float(purchase_data.loc[purchase_data[\"Gender\"]==\"Female\", [\"Price\"]].sum())\n",
    "m_total_purchase = float(purchase_data.loc[purchase_data[\"Gender\"]==\"Male\", [\"Price\"]].sum())\n",
    "o_total_purchase = float(purchase_data.loc[purchase_data[\"Gender\"]==\"Other / Non-Disclosed\", [\"Price\"]].sum())\n",
    "gender_purchase[\"Total Purchase Value\"] = [ m_total_purchase,f_total_purchase, o_total_purchase]\n",
    "    \n",
    "f_avtotal_purchase = round(f_total_purchase/gender_counts[1],2)\n",
    "m_avtotal_purchase = round(m_total_purchase/gender_counts[0],2)\n",
    "o_avtotal_purchase = round(o_total_purchase/gender_counts[2],2)\n",
    "\n",
    "gender_purchase[\"Avg Total Purchase per Person\"]= [ m_avtotal_purchase,f_avtotal_purchase, o_avtotal_purchase]\n",
    "\n",
    "gender_purchase = gender_purchase.rename(columns={\"Gender\": \"Purchase Count\"})\n",
    "formatted_table =gender_purchase.style.format({\"Average Purchase Price\": \"${:.2f}\",\"Total Purchase Value\": \"${:,.2f}\"})\n",
    "formatted_table"
   ]
  },
  {
   "cell_type": "markdown",
   "metadata": {},
   "source": [
    "## Age Demographics"
   ]
  },
  {
   "cell_type": "markdown",
   "metadata": {},
   "source": [
    "* Establish bins for ages\n",
    "\n",
    "\n",
    "* Categorize the existing players using the age bins. Hint: use pd.cut()\n",
    "\n",
    "\n",
    "* Calculate the numbers and percentages by age group\n",
    "\n",
    "\n",
    "* Create a summary data frame to hold the results\n",
    "\n",
    "\n",
    "* Optional: round the percentage column to two decimal points\n",
    "\n",
    "\n",
    "* Display Age Demographics Table\n"
   ]
  },
  {
   "cell_type": "code",
   "execution_count": 6,
   "metadata": {
    "scrolled": true
   },
   "outputs": [
    {
     "name": "stderr",
     "output_type": "stream",
     "text": [
      "C:\\Users\\azizi\\Anaconda3\\envs\\PythonData\\lib\\site-packages\\ipykernel_launcher.py:5: SettingWithCopyWarning: \n",
      "A value is trying to be set on a copy of a slice from a DataFrame.\n",
      "Try using .loc[row_indexer,col_indexer] = value instead\n",
      "\n",
      "See the caveats in the documentation: http://pandas.pydata.org/pandas-docs/stable/indexing.html#indexing-view-versus-copy\n",
      "  \"\"\"\n"
     ]
    },
    {
     "data": {
      "text/html": [
       "<style  type=\"text/css\" >\n",
       "</style>  \n",
       "<table id=\"T_8b412488_03bc_11e9_85db_8ce67d72158b\" > \n",
       "<thead>    <tr> \n",
       "        <th class=\"blank level0\" ></th> \n",
       "        <th class=\"col_heading level0 col0\" >Total Count</th> \n",
       "        <th class=\"col_heading level0 col1\" >Percentage of Players</th> \n",
       "    </tr>    <tr> \n",
       "        <th class=\"index_name level0\" ></th> \n",
       "        <th class=\"blank\" ></th> \n",
       "        <th class=\"blank\" ></th> \n",
       "    </tr></thead> \n",
       "<tbody>    <tr> \n",
       "        <th id=\"T_8b412488_03bc_11e9_85db_8ce67d72158blevel0_row0\" class=\"row_heading level0 row0\" ><10</th> \n",
       "        <td id=\"T_8b412488_03bc_11e9_85db_8ce67d72158brow0_col0\" class=\"data row0 col0\" >17</td> \n",
       "        <td id=\"T_8b412488_03bc_11e9_85db_8ce67d72158brow0_col1\" class=\"data row0 col1\" >2.95</td> \n",
       "    </tr>    <tr> \n",
       "        <th id=\"T_8b412488_03bc_11e9_85db_8ce67d72158blevel0_row1\" class=\"row_heading level0 row1\" >10-14</th> \n",
       "        <td id=\"T_8b412488_03bc_11e9_85db_8ce67d72158brow1_col0\" class=\"data row1 col0\" >22</td> \n",
       "        <td id=\"T_8b412488_03bc_11e9_85db_8ce67d72158brow1_col1\" class=\"data row1 col1\" >3.82</td> \n",
       "    </tr>    <tr> \n",
       "        <th id=\"T_8b412488_03bc_11e9_85db_8ce67d72158blevel0_row2\" class=\"row_heading level0 row2\" >15-19</th> \n",
       "        <td id=\"T_8b412488_03bc_11e9_85db_8ce67d72158brow2_col0\" class=\"data row2 col0\" >107</td> \n",
       "        <td id=\"T_8b412488_03bc_11e9_85db_8ce67d72158brow2_col1\" class=\"data row2 col1\" >18.58</td> \n",
       "    </tr>    <tr> \n",
       "        <th id=\"T_8b412488_03bc_11e9_85db_8ce67d72158blevel0_row3\" class=\"row_heading level0 row3\" >20-24</th> \n",
       "        <td id=\"T_8b412488_03bc_11e9_85db_8ce67d72158brow3_col0\" class=\"data row3 col0\" >258</td> \n",
       "        <td id=\"T_8b412488_03bc_11e9_85db_8ce67d72158brow3_col1\" class=\"data row3 col1\" >44.79</td> \n",
       "    </tr>    <tr> \n",
       "        <th id=\"T_8b412488_03bc_11e9_85db_8ce67d72158blevel0_row4\" class=\"row_heading level0 row4\" >25-29</th> \n",
       "        <td id=\"T_8b412488_03bc_11e9_85db_8ce67d72158brow4_col0\" class=\"data row4 col0\" >77</td> \n",
       "        <td id=\"T_8b412488_03bc_11e9_85db_8ce67d72158brow4_col1\" class=\"data row4 col1\" >13.37</td> \n",
       "    </tr>    <tr> \n",
       "        <th id=\"T_8b412488_03bc_11e9_85db_8ce67d72158blevel0_row5\" class=\"row_heading level0 row5\" >30-34</th> \n",
       "        <td id=\"T_8b412488_03bc_11e9_85db_8ce67d72158brow5_col0\" class=\"data row5 col0\" >52</td> \n",
       "        <td id=\"T_8b412488_03bc_11e9_85db_8ce67d72158brow5_col1\" class=\"data row5 col1\" >9.03</td> \n",
       "    </tr>    <tr> \n",
       "        <th id=\"T_8b412488_03bc_11e9_85db_8ce67d72158blevel0_row6\" class=\"row_heading level0 row6\" >35-39</th> \n",
       "        <td id=\"T_8b412488_03bc_11e9_85db_8ce67d72158brow6_col0\" class=\"data row6 col0\" >31</td> \n",
       "        <td id=\"T_8b412488_03bc_11e9_85db_8ce67d72158brow6_col1\" class=\"data row6 col1\" >5.38</td> \n",
       "    </tr>    <tr> \n",
       "        <th id=\"T_8b412488_03bc_11e9_85db_8ce67d72158blevel0_row7\" class=\"row_heading level0 row7\" >40+</th> \n",
       "        <td id=\"T_8b412488_03bc_11e9_85db_8ce67d72158brow7_col0\" class=\"data row7 col0\" >12</td> \n",
       "        <td id=\"T_8b412488_03bc_11e9_85db_8ce67d72158brow7_col1\" class=\"data row7 col1\" >2.08</td> \n",
       "    </tr></tbody> \n",
       "</table> "
      ],
      "text/plain": [
       "<pandas.io.formats.style.Styler at 0x2174ae89cc0>"
      ]
     },
     "execution_count": 6,
     "metadata": {},
     "output_type": "execute_result"
    }
   ],
   "source": [
    "data_table= uniqueSN #dropping off duplicate players otherwise the output table wont match with the expected results\n",
    "bins = pd.IntervalIndex.from_tuples([(0,9.5), (9.5,14), (14,19), (19,24),(24, 29), (29,34),(34,39),(39, 60)])\n",
    "group_labels = [\"<10\", \"10-14\",\"15-19\", \"20-24\", \"25-29\", \"30-34\",\"35-39\", \"40+\"]\n",
    "\n",
    "data_table[\"Grouped Age\"] = pd.cut(data_table[\"Age\"], bins )\n",
    "data_table = data_table.groupby(\"Grouped Age\")\n",
    "count_unique = data_table[\"Grouped Age\"].count()\n",
    "age_demographics = pd.DataFrame({\"\":group_labels, \"Total Count\": count_unique})\n",
    "age_demographics= age_demographics.set_index(\"\")\n",
    "\n",
    "age_demographics[\"Percentage of Players\"] = (age_demographics[\"Total Count\"]/total_players)*100\n",
    "age_demographics.style.format({\"Percentage of Players\": \"{:.2f}\"})"
   ]
  },
  {
   "cell_type": "markdown",
   "metadata": {},
   "source": [
    "## Purchasing Analysis (Age)"
   ]
  },
  {
   "cell_type": "markdown",
   "metadata": {},
   "source": [
    "* Bin the purchase_data data frame by age\n",
    "\n",
    "\n",
    "* Run basic calculations to obtain purchase count, avg. purchase price, avg. purchase total per person etc. in the table below\n",
    "\n",
    "\n",
    "* Create a summary data frame to hold the results\n",
    "\n",
    "\n",
    "* Optional: give the displayed data cleaner formatting\n",
    "\n",
    "\n",
    "* Display the summary data frame"
   ]
  },
  {
   "cell_type": "code",
   "execution_count": 7,
   "metadata": {},
   "outputs": [
    {
     "data": {
      "text/html": [
       "<style  type=\"text/css\" >\n",
       "</style>  \n",
       "<table id=\"T_8b46f86c_03bc_11e9_9c8f_8ce67d72158b\" > \n",
       "<thead>    <tr> \n",
       "        <th class=\"blank level0\" ></th> \n",
       "        <th class=\"col_heading level0 col0\" ></th> \n",
       "        <th class=\"col_heading level0 col1\" >Purchase Counts</th> \n",
       "        <th class=\"col_heading level0 col2\" >Average Purchase Price</th> \n",
       "        <th class=\"col_heading level0 col3\" >Total Purchase Value</th> \n",
       "        <th class=\"col_heading level0 col4\" >Avg Total Purchase per Person</th> \n",
       "    </tr></thead> \n",
       "<tbody>    <tr> \n",
       "        <th id=\"T_8b46f86c_03bc_11e9_9c8f_8ce67d72158blevel0_row0\" class=\"row_heading level0 row0\" >0</th> \n",
       "        <td id=\"T_8b46f86c_03bc_11e9_9c8f_8ce67d72158brow0_col0\" class=\"data row0 col0\" ><10</td> \n",
       "        <td id=\"T_8b46f86c_03bc_11e9_9c8f_8ce67d72158brow0_col1\" class=\"data row0 col1\" >23</td> \n",
       "        <td id=\"T_8b46f86c_03bc_11e9_9c8f_8ce67d72158brow0_col2\" class=\"data row0 col2\" >$3.35</td> \n",
       "        <td id=\"T_8b46f86c_03bc_11e9_9c8f_8ce67d72158brow0_col3\" class=\"data row0 col3\" >$77.13</td> \n",
       "        <td id=\"T_8b46f86c_03bc_11e9_9c8f_8ce67d72158brow0_col4\" class=\"data row0 col4\" >$4.54</td> \n",
       "    </tr>    <tr> \n",
       "        <th id=\"T_8b46f86c_03bc_11e9_9c8f_8ce67d72158blevel0_row1\" class=\"row_heading level0 row1\" >1</th> \n",
       "        <td id=\"T_8b46f86c_03bc_11e9_9c8f_8ce67d72158brow1_col0\" class=\"data row1 col0\" >10-14</td> \n",
       "        <td id=\"T_8b46f86c_03bc_11e9_9c8f_8ce67d72158brow1_col1\" class=\"data row1 col1\" >19</td> \n",
       "        <td id=\"T_8b46f86c_03bc_11e9_9c8f_8ce67d72158brow1_col2\" class=\"data row1 col2\" >$4.36</td> \n",
       "        <td id=\"T_8b46f86c_03bc_11e9_9c8f_8ce67d72158brow1_col3\" class=\"data row1 col3\" >$82.78</td> \n",
       "        <td id=\"T_8b46f86c_03bc_11e9_9c8f_8ce67d72158brow1_col4\" class=\"data row1 col4\" >$3.76</td> \n",
       "    </tr>    <tr> \n",
       "        <th id=\"T_8b46f86c_03bc_11e9_9c8f_8ce67d72158blevel0_row2\" class=\"row_heading level0 row2\" >2</th> \n",
       "        <td id=\"T_8b46f86c_03bc_11e9_9c8f_8ce67d72158brow2_col0\" class=\"data row2 col0\" >15-19</td> \n",
       "        <td id=\"T_8b46f86c_03bc_11e9_9c8f_8ce67d72158brow2_col1\" class=\"data row2 col1\" >136</td> \n",
       "        <td id=\"T_8b46f86c_03bc_11e9_9c8f_8ce67d72158brow2_col2\" class=\"data row2 col2\" >$3.04</td> \n",
       "        <td id=\"T_8b46f86c_03bc_11e9_9c8f_8ce67d72158brow2_col3\" class=\"data row2 col3\" >$412.89</td> \n",
       "        <td id=\"T_8b46f86c_03bc_11e9_9c8f_8ce67d72158brow2_col4\" class=\"data row2 col4\" >$3.86</td> \n",
       "    </tr>    <tr> \n",
       "        <th id=\"T_8b46f86c_03bc_11e9_9c8f_8ce67d72158blevel0_row3\" class=\"row_heading level0 row3\" >3</th> \n",
       "        <td id=\"T_8b46f86c_03bc_11e9_9c8f_8ce67d72158brow3_col0\" class=\"data row3 col0\" >20-24</td> \n",
       "        <td id=\"T_8b46f86c_03bc_11e9_9c8f_8ce67d72158brow3_col1\" class=\"data row3 col1\" >365</td> \n",
       "        <td id=\"T_8b46f86c_03bc_11e9_9c8f_8ce67d72158brow3_col2\" class=\"data row3 col2\" >$3.05</td> \n",
       "        <td id=\"T_8b46f86c_03bc_11e9_9c8f_8ce67d72158brow3_col3\" class=\"data row3 col3\" >$1114.06</td> \n",
       "        <td id=\"T_8b46f86c_03bc_11e9_9c8f_8ce67d72158brow3_col4\" class=\"data row3 col4\" >$4.32</td> \n",
       "    </tr>    <tr> \n",
       "        <th id=\"T_8b46f86c_03bc_11e9_9c8f_8ce67d72158blevel0_row4\" class=\"row_heading level0 row4\" >4</th> \n",
       "        <td id=\"T_8b46f86c_03bc_11e9_9c8f_8ce67d72158brow4_col0\" class=\"data row4 col0\" >25-29</td> \n",
       "        <td id=\"T_8b46f86c_03bc_11e9_9c8f_8ce67d72158brow4_col1\" class=\"data row4 col1\" >101</td> \n",
       "        <td id=\"T_8b46f86c_03bc_11e9_9c8f_8ce67d72158brow4_col2\" class=\"data row4 col2\" >$2.90</td> \n",
       "        <td id=\"T_8b46f86c_03bc_11e9_9c8f_8ce67d72158brow4_col3\" class=\"data row4 col3\" >$293.00</td> \n",
       "        <td id=\"T_8b46f86c_03bc_11e9_9c8f_8ce67d72158brow4_col4\" class=\"data row4 col4\" >$3.81</td> \n",
       "    </tr>    <tr> \n",
       "        <th id=\"T_8b46f86c_03bc_11e9_9c8f_8ce67d72158blevel0_row5\" class=\"row_heading level0 row5\" >5</th> \n",
       "        <td id=\"T_8b46f86c_03bc_11e9_9c8f_8ce67d72158brow5_col0\" class=\"data row5 col0\" >30-34</td> \n",
       "        <td id=\"T_8b46f86c_03bc_11e9_9c8f_8ce67d72158brow5_col1\" class=\"data row5 col1\" >73</td> \n",
       "        <td id=\"T_8b46f86c_03bc_11e9_9c8f_8ce67d72158brow5_col2\" class=\"data row5 col2\" >$2.93</td> \n",
       "        <td id=\"T_8b46f86c_03bc_11e9_9c8f_8ce67d72158brow5_col3\" class=\"data row5 col3\" >$214.00</td> \n",
       "        <td id=\"T_8b46f86c_03bc_11e9_9c8f_8ce67d72158brow5_col4\" class=\"data row5 col4\" >$4.12</td> \n",
       "    </tr>    <tr> \n",
       "        <th id=\"T_8b46f86c_03bc_11e9_9c8f_8ce67d72158blevel0_row6\" class=\"row_heading level0 row6\" >6</th> \n",
       "        <td id=\"T_8b46f86c_03bc_11e9_9c8f_8ce67d72158brow6_col0\" class=\"data row6 col0\" >35-39</td> \n",
       "        <td id=\"T_8b46f86c_03bc_11e9_9c8f_8ce67d72158brow6_col1\" class=\"data row6 col1\" >41</td> \n",
       "        <td id=\"T_8b46f86c_03bc_11e9_9c8f_8ce67d72158brow6_col2\" class=\"data row6 col2\" >$3.60</td> \n",
       "        <td id=\"T_8b46f86c_03bc_11e9_9c8f_8ce67d72158brow6_col3\" class=\"data row6 col3\" >$147.67</td> \n",
       "        <td id=\"T_8b46f86c_03bc_11e9_9c8f_8ce67d72158brow6_col4\" class=\"data row6 col4\" >$4.76</td> \n",
       "    </tr>    <tr> \n",
       "        <th id=\"T_8b46f86c_03bc_11e9_9c8f_8ce67d72158blevel0_row7\" class=\"row_heading level0 row7\" >7</th> \n",
       "        <td id=\"T_8b46f86c_03bc_11e9_9c8f_8ce67d72158brow7_col0\" class=\"data row7 col0\" >40+</td> \n",
       "        <td id=\"T_8b46f86c_03bc_11e9_9c8f_8ce67d72158brow7_col1\" class=\"data row7 col1\" >13</td> \n",
       "        <td id=\"T_8b46f86c_03bc_11e9_9c8f_8ce67d72158brow7_col2\" class=\"data row7 col2\" >$2.94</td> \n",
       "        <td id=\"T_8b46f86c_03bc_11e9_9c8f_8ce67d72158brow7_col3\" class=\"data row7 col3\" >$38.24</td> \n",
       "        <td id=\"T_8b46f86c_03bc_11e9_9c8f_8ce67d72158brow7_col4\" class=\"data row7 col4\" >$3.19</td> \n",
       "    </tr></tbody> \n",
       "</table> "
      ],
      "text/plain": [
       "<pandas.io.formats.style.Styler at 0x2174ae897b8>"
      ]
     },
     "execution_count": 7,
     "metadata": {},
     "output_type": "execute_result"
    }
   ],
   "source": [
    "data_table= purchase_data # using actual purchase data in the begining, contains duplicate players.\n",
    "\n",
    "#Binning Purchase data DF by Age\n",
    "bins = pd.IntervalIndex.from_tuples([(0,9.5), (10,14), (14,19), (19,24),(24, 29), (29,34),(34,39),(39, 60)])\n",
    "group_labels = [\"<10\", \"10-14\",\"15-19\", \"20-24\", \"25-29\", \"30-34\",\"35-39\", \"40+\"]\n",
    "data_table[\"Grouped Age\"] = pd.cut(data_table[\"Age\"], bins )\n",
    "data_table = data_table.groupby(\"Grouped Age\")\n",
    "\n",
    "# Calculating purchase counts\n",
    "total_count = data_table[\"Grouped Age\"].count()\n",
    "\n",
    "# Converting to list so that it would be easier to use it for average calcs.\n",
    "count_list = [x for x in total_count]\n",
    "\n",
    "#Calculating totals for each user age\n",
    "total_less_10 = purchase_data.loc[purchase_data[\"Age\"]<10, \"Price\"].sum()\n",
    "total_10_14 = purchase_data.loc[(purchase_data[\"Age\"]>=10) & (purchase_data[\"Age\"]<=14), \"Price\"].sum()\n",
    "total_15_19 = purchase_data.loc[(purchase_data[\"Age\"]>=15) & (purchase_data[\"Age\"]<=19), \"Price\" ].sum()\n",
    "total_20_24 = purchase_data.loc[(purchase_data[\"Age\"]>=20) & (purchase_data[\"Age\"]<=24), \"Price\" ].sum()\n",
    "total_25_29 = purchase_data.loc[(purchase_data[\"Age\"]>=25) & (purchase_data[\"Age\"]<=29), \"Price\" ].sum()\n",
    "total_30_34 = purchase_data.loc[(purchase_data[\"Age\"]>=30) & (purchase_data[\"Age\"]<=34), \"Price\" ].sum()\n",
    "total_35_39 = purchase_data.loc[(purchase_data[\"Age\"]>=35) & (purchase_data[\"Age\"]<=39), \"Price\" ].sum()\n",
    "total_great_40 = purchase_data.loc[purchase_data[\"Age\"]>=40, \"Price\"].sum()\n",
    "\n",
    "#listing totals\n",
    "total_purchase_list = [total_less_10,total_10_14, total_15_19,total_20_24,total_25_29,total_30_34,total_35_39,total_great_40]\n",
    "\n",
    "#Average Purchases\n",
    "avr_purchase_list = [total_less_10/count_list[0],total_10_14/count_list[1], total_15_19/count_list[2],total_20_24/count_list[3],total_25_29/count_list[4],total_30_34/count_list[5],total_35_39/count_list[6],total_great_40/count_list[7]]\n",
    "\n",
    "#Average total per person\n",
    "count_unique_list = [x for x in count_unique]\n",
    "avr_total_purchase = [total_less_10/count_unique_list[0],total_10_14/count_unique_list[1], total_15_19/count_unique_list[2],total_20_24/count_unique_list[3],total_25_29/count_unique_list[4],total_30_34/count_unique_list[5],total_35_39/count_unique_list[6],total_great_40/count_unique_list[7]]\n",
    "\n",
    "#Creating Data frame for output table\n",
    "purchase_age_df = pd.DataFrame({\"\":group_labels,\"Purchase Counts\":count_list, \"Average Purchase Price\": avr_purchase_list, \"Total Purchase Value\":total_purchase_list, \"Avg Total Purchase per Person\":avr_total_purchase})\n",
    "purchase_age_df.style.format({\"Average Purchase Price\": \"${:.2f}\",\"Total Purchase Value\": \"${:.2f}\", \"Avg Total Purchase per Person\": \"${:.2f}\"})\n"
   ]
  },
  {
   "cell_type": "markdown",
   "metadata": {},
   "source": [
    "## Top Spenders"
   ]
  },
  {
   "cell_type": "markdown",
   "metadata": {},
   "source": [
    "* Run basic calculations to obtain the results in the table below\n",
    "\n",
    "\n",
    "* Create a summary data frame to hold the results\n",
    "\n",
    "\n",
    "* Sort the total purchase value column in descending order\n",
    "\n",
    "\n",
    "* Optional: give the displayed data cleaner formatting\n",
    "\n",
    "\n",
    "* Display a preview of the summary data frame\n",
    "\n"
   ]
  },
  {
   "cell_type": "code",
   "execution_count": 8,
   "metadata": {},
   "outputs": [
    {
     "data": {
      "text/html": [
       "<style  type=\"text/css\" >\n",
       "</style>  \n",
       "<table id=\"T_8b4b3564_03bc_11e9_a592_8ce67d72158b\" > \n",
       "<thead>    <tr> \n",
       "        <th class=\"blank level0\" ></th> \n",
       "        <th class=\"col_heading level0 col0\" >Purchase Count</th> \n",
       "        <th class=\"col_heading level0 col1\" >Average Purchase Price</th> \n",
       "        <th class=\"col_heading level0 col2\" >Total Purchase Value</th> \n",
       "    </tr>    <tr> \n",
       "        <th class=\"index_name level0\" >SN</th> \n",
       "        <th class=\"blank\" ></th> \n",
       "        <th class=\"blank\" ></th> \n",
       "        <th class=\"blank\" ></th> \n",
       "    </tr></thead> \n",
       "<tbody>    <tr> \n",
       "        <th id=\"T_8b4b3564_03bc_11e9_a592_8ce67d72158blevel0_row0\" class=\"row_heading level0 row0\" >Lisosia93</th> \n",
       "        <td id=\"T_8b4b3564_03bc_11e9_a592_8ce67d72158brow0_col0\" class=\"data row0 col0\" >5</td> \n",
       "        <td id=\"T_8b4b3564_03bc_11e9_a592_8ce67d72158brow0_col1\" class=\"data row0 col1\" >$3.79</td> \n",
       "        <td id=\"T_8b4b3564_03bc_11e9_a592_8ce67d72158brow0_col2\" class=\"data row0 col2\" >$18.96</td> \n",
       "    </tr>    <tr> \n",
       "        <th id=\"T_8b4b3564_03bc_11e9_a592_8ce67d72158blevel0_row1\" class=\"row_heading level0 row1\" >Idastidru52</th> \n",
       "        <td id=\"T_8b4b3564_03bc_11e9_a592_8ce67d72158brow1_col0\" class=\"data row1 col0\" >4</td> \n",
       "        <td id=\"T_8b4b3564_03bc_11e9_a592_8ce67d72158brow1_col1\" class=\"data row1 col1\" >$3.86</td> \n",
       "        <td id=\"T_8b4b3564_03bc_11e9_a592_8ce67d72158brow1_col2\" class=\"data row1 col2\" >$15.45</td> \n",
       "    </tr>    <tr> \n",
       "        <th id=\"T_8b4b3564_03bc_11e9_a592_8ce67d72158blevel0_row2\" class=\"row_heading level0 row2\" >Chamjask73</th> \n",
       "        <td id=\"T_8b4b3564_03bc_11e9_a592_8ce67d72158brow2_col0\" class=\"data row2 col0\" >3</td> \n",
       "        <td id=\"T_8b4b3564_03bc_11e9_a592_8ce67d72158brow2_col1\" class=\"data row2 col1\" >$4.61</td> \n",
       "        <td id=\"T_8b4b3564_03bc_11e9_a592_8ce67d72158brow2_col2\" class=\"data row2 col2\" >$13.83</td> \n",
       "    </tr>    <tr> \n",
       "        <th id=\"T_8b4b3564_03bc_11e9_a592_8ce67d72158blevel0_row3\" class=\"row_heading level0 row3\" >Iral74</th> \n",
       "        <td id=\"T_8b4b3564_03bc_11e9_a592_8ce67d72158brow3_col0\" class=\"data row3 col0\" >4</td> \n",
       "        <td id=\"T_8b4b3564_03bc_11e9_a592_8ce67d72158brow3_col1\" class=\"data row3 col1\" >$3.40</td> \n",
       "        <td id=\"T_8b4b3564_03bc_11e9_a592_8ce67d72158brow3_col2\" class=\"data row3 col2\" >$13.62</td> \n",
       "    </tr>    <tr> \n",
       "        <th id=\"T_8b4b3564_03bc_11e9_a592_8ce67d72158blevel0_row4\" class=\"row_heading level0 row4\" >Iskadarya95</th> \n",
       "        <td id=\"T_8b4b3564_03bc_11e9_a592_8ce67d72158brow4_col0\" class=\"data row4 col0\" >3</td> \n",
       "        <td id=\"T_8b4b3564_03bc_11e9_a592_8ce67d72158brow4_col1\" class=\"data row4 col1\" >$4.37</td> \n",
       "        <td id=\"T_8b4b3564_03bc_11e9_a592_8ce67d72158brow4_col2\" class=\"data row4 col2\" >$13.10</td> \n",
       "    </tr></tbody> \n",
       "</table> "
      ],
      "text/plain": [
       "<pandas.io.formats.style.Styler at 0x2174ae707b8>"
      ]
     },
     "execution_count": 8,
     "metadata": {},
     "output_type": "execute_result"
    }
   ],
   "source": [
    "# grouping and sorting the main table to find the top purchasers.\n",
    "table= purchase_data.groupby(\"SN\").sum()\n",
    "total_spending = table.sort_values(by=\"Price\", ascending=False, inplace=True)\n",
    "\n",
    "#Finding top 5 names, purchases and counts\n",
    "top_5_names = list(table[\"Price\"].head(5).keys())\n",
    "top_5_purchases = list(table[\"Price\"].head(5))\n",
    "top_5_counts = [purchase_data[purchase_data[\"SN\"]== x].count()[0] for x in top_5_names]\n",
    "\n",
    "#Calculate Average purchase for each 5 spenders\n",
    "avr_purchase_price = [x/y for x, y in zip(top_5_purchases, top_5_counts)]\n",
    "\n",
    "#Creating Data frame for output table\n",
    "top_spenders = pd.DataFrame({\"SN\":top_5_names, \"Purchase Count\": top_5_counts,\"Average Purchase Price\": avr_purchase_price, \"Total Purchase Value\":top_5_purchases})\n",
    "top_spenders.set_index(\"SN\").style.format({\"Average Purchase Price\": \"${:.2f}\",\"Total Purchase Value\": \"${:.2f}\"})\n"
   ]
  },
  {
   "cell_type": "markdown",
   "metadata": {},
   "source": [
    "## Most Popular Items"
   ]
  },
  {
   "cell_type": "markdown",
   "metadata": {},
   "source": [
    "* Retrieve the Item ID, Item Name, and Item Price columns\n",
    "\n",
    "\n",
    "* Group by Item ID and Item Name. Perform calculations to obtain purchase count, item price, and total purchase value\n",
    "\n",
    "\n",
    "* Create a summary data frame to hold the results\n",
    "\n",
    "\n",
    "* Sort the purchase count column in descending order\n",
    "\n",
    "\n",
    "* Optional: give the displayed data cleaner formatting\n",
    "\n",
    "\n",
    "* Display a preview of the summary data frame\n",
    "\n"
   ]
  },
  {
   "cell_type": "code",
   "execution_count": 31,
   "metadata": {},
   "outputs": [
    {
     "data": {
      "text/html": [
       "<style  type=\"text/css\" >\n",
       "</style>  \n",
       "<table id=\"T_7c68dca2_03bf_11e9_bcc0_8ce67d72158b\" > \n",
       "<thead>    <tr> \n",
       "        <th class=\"blank\" ></th> \n",
       "        <th class=\"blank level0\" ></th> \n",
       "        <th class=\"col_heading level0 col0\" >Purchase Count</th> \n",
       "        <th class=\"col_heading level0 col1\" >Item Price</th> \n",
       "        <th class=\"col_heading level0 col2\" >Total Purchase value</th> \n",
       "    </tr>    <tr> \n",
       "        <th class=\"index_name level0\" >Item ID</th> \n",
       "        <th class=\"index_name level1\" >Item Name</th> \n",
       "        <th class=\"blank\" ></th> \n",
       "        <th class=\"blank\" ></th> \n",
       "        <th class=\"blank\" ></th> \n",
       "    </tr></thead> \n",
       "<tbody>    <tr> \n",
       "        <th id=\"T_7c68dca2_03bf_11e9_bcc0_8ce67d72158blevel0_row0\" class=\"row_heading level0 row0\" >178</th> \n",
       "        <th id=\"T_7c68dca2_03bf_11e9_bcc0_8ce67d72158blevel1_row0\" class=\"row_heading level1 row0\" >Oathbreaker, Last Hope of the Breaking Storm</th> \n",
       "        <td id=\"T_7c68dca2_03bf_11e9_bcc0_8ce67d72158brow0_col0\" class=\"data row0 col0\" >12</td> \n",
       "        <td id=\"T_7c68dca2_03bf_11e9_bcc0_8ce67d72158brow0_col1\" class=\"data row0 col1\" >$4.23</td> \n",
       "        <td id=\"T_7c68dca2_03bf_11e9_bcc0_8ce67d72158brow0_col2\" class=\"data row0 col2\" >$50.76</td> \n",
       "    </tr>    <tr> \n",
       "        <th id=\"T_7c68dca2_03bf_11e9_bcc0_8ce67d72158blevel0_row1\" class=\"row_heading level0 row1\" >145</th> \n",
       "        <th id=\"T_7c68dca2_03bf_11e9_bcc0_8ce67d72158blevel1_row1\" class=\"row_heading level1 row1\" >Fiery Glass Crusader</th> \n",
       "        <td id=\"T_7c68dca2_03bf_11e9_bcc0_8ce67d72158brow1_col0\" class=\"data row1 col0\" >9</td> \n",
       "        <td id=\"T_7c68dca2_03bf_11e9_bcc0_8ce67d72158brow1_col1\" class=\"data row1 col1\" >$4.58</td> \n",
       "        <td id=\"T_7c68dca2_03bf_11e9_bcc0_8ce67d72158brow1_col2\" class=\"data row1 col2\" >$41.22</td> \n",
       "    </tr>    <tr> \n",
       "        <th id=\"T_7c68dca2_03bf_11e9_bcc0_8ce67d72158blevel0_row2\" class=\"row_heading level0 row2\" >108</th> \n",
       "        <th id=\"T_7c68dca2_03bf_11e9_bcc0_8ce67d72158blevel1_row2\" class=\"row_heading level1 row2\" >Extraction, Quickblade Of Trembling Hands</th> \n",
       "        <td id=\"T_7c68dca2_03bf_11e9_bcc0_8ce67d72158brow2_col0\" class=\"data row2 col0\" >9</td> \n",
       "        <td id=\"T_7c68dca2_03bf_11e9_bcc0_8ce67d72158brow2_col1\" class=\"data row2 col1\" >$3.53</td> \n",
       "        <td id=\"T_7c68dca2_03bf_11e9_bcc0_8ce67d72158brow2_col2\" class=\"data row2 col2\" >$31.77</td> \n",
       "    </tr>    <tr> \n",
       "        <th id=\"T_7c68dca2_03bf_11e9_bcc0_8ce67d72158blevel0_row3\" class=\"row_heading level0 row3\" >82</th> \n",
       "        <th id=\"T_7c68dca2_03bf_11e9_bcc0_8ce67d72158blevel1_row3\" class=\"row_heading level1 row3\" >Nirvana</th> \n",
       "        <td id=\"T_7c68dca2_03bf_11e9_bcc0_8ce67d72158brow3_col0\" class=\"data row3 col0\" >9</td> \n",
       "        <td id=\"T_7c68dca2_03bf_11e9_bcc0_8ce67d72158brow3_col1\" class=\"data row3 col1\" >$4.90</td> \n",
       "        <td id=\"T_7c68dca2_03bf_11e9_bcc0_8ce67d72158brow3_col2\" class=\"data row3 col2\" >$44.10</td> \n",
       "    </tr>    <tr> \n",
       "        <th id=\"T_7c68dca2_03bf_11e9_bcc0_8ce67d72158blevel0_row4\" class=\"row_heading level0 row4\" >19</th> \n",
       "        <th id=\"T_7c68dca2_03bf_11e9_bcc0_8ce67d72158blevel1_row4\" class=\"row_heading level1 row4\" >Pursuit, Cudgel of Necromancy</th> \n",
       "        <td id=\"T_7c68dca2_03bf_11e9_bcc0_8ce67d72158brow4_col0\" class=\"data row4 col0\" >8</td> \n",
       "        <td id=\"T_7c68dca2_03bf_11e9_bcc0_8ce67d72158brow4_col1\" class=\"data row4 col1\" >$1.02</td> \n",
       "        <td id=\"T_7c68dca2_03bf_11e9_bcc0_8ce67d72158brow4_col2\" class=\"data row4 col2\" >$8.16</td> \n",
       "    </tr></tbody> \n",
       "</table> "
      ],
      "text/plain": [
       "<pandas.io.formats.style.Styler at 0x2174b297860>"
      ]
     },
     "execution_count": 31,
     "metadata": {},
     "output_type": "execute_result"
    }
   ],
   "source": [
    "# grouping and sorting the main table to find the top purchasers.\n",
    "items_table= purchase_data.groupby([\"Item ID\",\"Item Name\"])\n",
    "top_5_itemcounts = items_table[\"SN\"].count()\n",
    "top_5_itemsums = items_table[\"Price\"].sum()\n",
    "\n",
    "# Find item price\n",
    "items_price = (top_5_itemsums/top_5_itemcounts)\n",
    "total_purchase = (items_price*top_5_itemcounts)\n",
    "\n",
    "popular_items_df= pd.DataFrame({\"Purchase Count\": top_5_itemcounts, \"Item Price\": items_price, \"Total Purchase value\": total_purchase })\n",
    "top_5_popular_items = popular_items_df.sort_values(\"Purchase Count\", ascending=False).head(5)\n",
    "top_5_popular_items.style.format({\"Item Price\": \"${:.2f}\",\"Total Purchase value\": \"${:.2f}\"})"
   ]
  },
  {
   "cell_type": "markdown",
   "metadata": {},
   "source": [
    "## Most Profitable Items"
   ]
  },
  {
   "cell_type": "markdown",
   "metadata": {},
   "source": [
    "* Sort the above table by total purchase value in descending order\n",
    "\n",
    "\n",
    "* Optional: give the displayed data cleaner formatting\n",
    "\n",
    "\n",
    "* Display a preview of the data frame\n",
    "\n"
   ]
  },
  {
   "cell_type": "code",
   "execution_count": 34,
   "metadata": {
    "scrolled": true
   },
   "outputs": [
    {
     "data": {
      "text/html": [
       "<style  type=\"text/css\" >\n",
       "</style>  \n",
       "<table id=\"T_9658eba2_03bf_11e9_91c9_8ce67d72158b\" > \n",
       "<thead>    <tr> \n",
       "        <th class=\"blank\" ></th> \n",
       "        <th class=\"blank level0\" ></th> \n",
       "        <th class=\"col_heading level0 col0\" >Purchase Count</th> \n",
       "        <th class=\"col_heading level0 col1\" >Item Price</th> \n",
       "        <th class=\"col_heading level0 col2\" >Total Purchase value</th> \n",
       "    </tr>    <tr> \n",
       "        <th class=\"index_name level0\" >Item ID</th> \n",
       "        <th class=\"index_name level1\" >Item Name</th> \n",
       "        <th class=\"blank\" ></th> \n",
       "        <th class=\"blank\" ></th> \n",
       "        <th class=\"blank\" ></th> \n",
       "    </tr></thead> \n",
       "<tbody>    <tr> \n",
       "        <th id=\"T_9658eba2_03bf_11e9_91c9_8ce67d72158blevel0_row0\" class=\"row_heading level0 row0\" >178</th> \n",
       "        <th id=\"T_9658eba2_03bf_11e9_91c9_8ce67d72158blevel1_row0\" class=\"row_heading level1 row0\" >Oathbreaker, Last Hope of the Breaking Storm</th> \n",
       "        <td id=\"T_9658eba2_03bf_11e9_91c9_8ce67d72158brow0_col0\" class=\"data row0 col0\" >12</td> \n",
       "        <td id=\"T_9658eba2_03bf_11e9_91c9_8ce67d72158brow0_col1\" class=\"data row0 col1\" >$4.23</td> \n",
       "        <td id=\"T_9658eba2_03bf_11e9_91c9_8ce67d72158brow0_col2\" class=\"data row0 col2\" >$50.76</td> \n",
       "    </tr>    <tr> \n",
       "        <th id=\"T_9658eba2_03bf_11e9_91c9_8ce67d72158blevel0_row1\" class=\"row_heading level0 row1\" >82</th> \n",
       "        <th id=\"T_9658eba2_03bf_11e9_91c9_8ce67d72158blevel1_row1\" class=\"row_heading level1 row1\" >Nirvana</th> \n",
       "        <td id=\"T_9658eba2_03bf_11e9_91c9_8ce67d72158brow1_col0\" class=\"data row1 col0\" >9</td> \n",
       "        <td id=\"T_9658eba2_03bf_11e9_91c9_8ce67d72158brow1_col1\" class=\"data row1 col1\" >$4.90</td> \n",
       "        <td id=\"T_9658eba2_03bf_11e9_91c9_8ce67d72158brow1_col2\" class=\"data row1 col2\" >$44.10</td> \n",
       "    </tr>    <tr> \n",
       "        <th id=\"T_9658eba2_03bf_11e9_91c9_8ce67d72158blevel0_row2\" class=\"row_heading level0 row2\" >145</th> \n",
       "        <th id=\"T_9658eba2_03bf_11e9_91c9_8ce67d72158blevel1_row2\" class=\"row_heading level1 row2\" >Fiery Glass Crusader</th> \n",
       "        <td id=\"T_9658eba2_03bf_11e9_91c9_8ce67d72158brow2_col0\" class=\"data row2 col0\" >9</td> \n",
       "        <td id=\"T_9658eba2_03bf_11e9_91c9_8ce67d72158brow2_col1\" class=\"data row2 col1\" >$4.58</td> \n",
       "        <td id=\"T_9658eba2_03bf_11e9_91c9_8ce67d72158brow2_col2\" class=\"data row2 col2\" >$41.22</td> \n",
       "    </tr>    <tr> \n",
       "        <th id=\"T_9658eba2_03bf_11e9_91c9_8ce67d72158blevel0_row3\" class=\"row_heading level0 row3\" >92</th> \n",
       "        <th id=\"T_9658eba2_03bf_11e9_91c9_8ce67d72158blevel1_row3\" class=\"row_heading level1 row3\" >Final Critic</th> \n",
       "        <td id=\"T_9658eba2_03bf_11e9_91c9_8ce67d72158brow3_col0\" class=\"data row3 col0\" >8</td> \n",
       "        <td id=\"T_9658eba2_03bf_11e9_91c9_8ce67d72158brow3_col1\" class=\"data row3 col1\" >$4.88</td> \n",
       "        <td id=\"T_9658eba2_03bf_11e9_91c9_8ce67d72158brow3_col2\" class=\"data row3 col2\" >$39.04</td> \n",
       "    </tr>    <tr> \n",
       "        <th id=\"T_9658eba2_03bf_11e9_91c9_8ce67d72158blevel0_row4\" class=\"row_heading level0 row4\" >103</th> \n",
       "        <th id=\"T_9658eba2_03bf_11e9_91c9_8ce67d72158blevel1_row4\" class=\"row_heading level1 row4\" >Singed Scalpel</th> \n",
       "        <td id=\"T_9658eba2_03bf_11e9_91c9_8ce67d72158brow4_col0\" class=\"data row4 col0\" >8</td> \n",
       "        <td id=\"T_9658eba2_03bf_11e9_91c9_8ce67d72158brow4_col1\" class=\"data row4 col1\" >$4.35</td> \n",
       "        <td id=\"T_9658eba2_03bf_11e9_91c9_8ce67d72158brow4_col2\" class=\"data row4 col2\" >$34.80</td> \n",
       "    </tr></tbody> \n",
       "</table> "
      ],
      "text/plain": [
       "<pandas.io.formats.style.Styler at 0x2174b12a438>"
      ]
     },
     "execution_count": 34,
     "metadata": {},
     "output_type": "execute_result"
    }
   ],
   "source": [
    "poriftable_items = popular_items_df.sort_values(\"Total Purchase value\", ascending=False).head(5)\n",
    "poriftable_items.style.format({\"Item Price\": \"${:.2f}\",\"Total Purchase value\": \"${:.2f}\"})"
   ]
  },
  {
   "cell_type": "code",
   "execution_count": null,
   "metadata": {},
   "outputs": [],
   "source": []
  }
 ],
 "metadata": {
  "anaconda-cloud": {},
  "kernel_info": {
   "name": "python3"
  },
  "kernelspec": {
   "display_name": "Python 3",
   "language": "python",
   "name": "python3"
  },
  "language_info": {
   "codemirror_mode": {
    "name": "ipython",
    "version": 3
   },
   "file_extension": ".py",
   "mimetype": "text/x-python",
   "name": "python",
   "nbconvert_exporter": "python",
   "pygments_lexer": "ipython3",
   "version": "3.6.6"
  },
  "nteract": {
   "version": "0.2.0"
  }
 },
 "nbformat": 4,
 "nbformat_minor": 2
}
